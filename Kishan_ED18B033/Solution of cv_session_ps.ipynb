{
  "nbformat": 4,
  "nbformat_minor": 0,
  "metadata": {
    "colab": {
      "name": "Solution of cv-session_ps.ipynb",
      "provenance": [],
      "collapsed_sections": []
    },
    "kernelspec": {
      "display_name": "Python 3",
      "name": "python3"
    },
    "language_info": {
      "name": "python"
    }
  },
  "cells": [
    {
      "cell_type": "code",
      "metadata": {
        "id": "3BtVGVr5TQmg"
      },
      "source": [
        "import cv2\n",
        "import numpy as np\n",
        "from google.colab.patches import cv2_imshow\n",
        "import matplotlib.pyplot as plt\n",
        "%matplotlib inline"
      ],
      "execution_count": 12,
      "outputs": []
    },
    {
      "cell_type": "markdown",
      "metadata": {
        "id": "dGi8GtlvT5XC"
      },
      "source": [
        "###Task 1"
      ]
    },
    {
      "cell_type": "code",
      "metadata": {
        "id": "EUrSQYuVXyMV"
      },
      "source": [
        "!git clone https://github.com/Kishan-992013/cv-session.git"
      ],
      "execution_count": null,
      "outputs": []
    },
    {
      "cell_type": "code",
      "metadata": {
        "id": "2Y1mjZbyUAia"
      },
      "source": [
        "img=cv2.imread('/content/cv-session/media/einstein.jpg')\n",
        "cv2_imshow(img)"
      ],
      "execution_count": null,
      "outputs": []
    },
    {
      "cell_type": "code",
      "metadata": {
        "id": "RKeS_rm2XJrt"
      },
      "source": [
        "blur_gaus1 = cv2.GaussianBlur(img,(5,5),0)\n",
        "blur_gaus2 = cv2.GaussianBlur(img,(9,9),0)\n",
        "plt.figure(),plt.axis(\"off\"),plt.title(\"Kernel 5x5\"),plt.imshow(blur_gaus1)\n",
        "plt.figure(),plt.axis(\"off\"),plt.title(\"Kernel 9x9\"),plt.imshow(blur_gaus2)\n",
        "plt.show()"
      ],
      "execution_count": null,
      "outputs": []
    },
    {
      "cell_type": "code",
      "metadata": {
        "id": "9qFsXTGKEK-P"
      },
      "source": [
        "fin1=blur_gaus1-blur_gaus2\n",
        "fin2=blur_gaus2-blur_gaus1\n",
        "plt.figure(),plt.axis(\"off\"),plt.title(\"Kernel 5x5-9x9\"),plt.imshow(fin1)\n",
        "plt.figure(),plt.axis(\"off\"),plt.title(\"Kernel 9x9-5x5\"),plt.imshow(fin2)\n",
        "plt.show()"
      ],
      "execution_count": null,
      "outputs": []
    },
    {
      "cell_type": "markdown",
      "metadata": {
        "id": "PgxAzLY3E_Jj"
      },
      "source": [
        "###Task 2"
      ]
    },
    {
      "cell_type": "code",
      "metadata": {
        "id": "70nzpeVyT1Md"
      },
      "source": [
        "barrel = cv2.imread('/content/cv-session/media/barrel.jpg')\n",
        "barrel_hsv = cv2.cvtColor(barrel, cv2.COLOR_BGR2HSV)\n",
        "\n",
        "target_hist = cv2.calcHist([barrel_hsv], [0, 1], None, [180, 256], [0, 180, 0, 256])\n",
        "cv2.normalize(target_hist, target_hist, 0, 255, cv2.NORM_MINMAX)"
      ],
      "execution_count": null,
      "outputs": []
    },
    {
      "cell_type": "code",
      "metadata": {
        "id": "bcLq2_OgVunR"
      },
      "source": [
        "cap = cv2.VideoCapture('/content/cv-session/media/video.mp4')\n",
        "\n",
        "while cap.isOpened():\n",
        "  ret, frame = cap.read()\n",
        "  hsv_frame = cv2.cvtColor(frame, cv2.COLOR_BGR2HSV)\n",
        "  res = cv2.calcBackProject([hsv_frame], [0, 1], target_hist, [0, 180, 0, 256], 1)\n",
        "  disc= cv2.getStructuringElement(cv2.MORPH_ELLIPSE, (5, 5))\n",
        "  cv2.filter2D(res, -1, disc, res)\n",
        "  _,thresh = cv2.threshold(res, 50,255,0)\n",
        "  final = cv2.merge((thresh, thresh, thresh))\n",
        "  result = cv2.bitwise_and(frame, final)\n",
        "  cv2_imshow(result)\n",
        "  if cv2.waitKey(30) == 27:\n",
        "    break"
      ],
      "execution_count": null,
      "outputs": []
    }
  ]
}
