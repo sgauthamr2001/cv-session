{
 "cells": [
  {
   "cell_type": "code",
   "execution_count": 34,
   "id": "0a0e0997",
   "metadata": {},
   "outputs": [],
   "source": [
    "import cv2"
   ]
  },
  {
   "cell_type": "code",
   "execution_count": 35,
   "id": "2c88986e",
   "metadata": {},
   "outputs": [],
   "source": [
    "img = cv2.imread(\"einstein.jpg\",0)\n",
    "blurred_1 = cv2.GaussianBlur(img,(5,5),0)"
   ]
  },
  {
   "cell_type": "code",
   "execution_count": 36,
   "id": "7149733a",
   "metadata": {},
   "outputs": [],
   "source": [
    "cv2.imshow('einsten_1', blurred_1)\n",
    "cv2.waitKey(0)\n",
    "cv2.destroyAllWindows()"
   ]
  },
  {
   "cell_type": "code",
   "execution_count": 37,
   "id": "1a5e8520",
   "metadata": {},
   "outputs": [],
   "source": [
    "img = cv2.imread(\"einstein.jpg\",0)\n",
    "blurred_2 = cv2.GaussianBlur(img,(9,9),1.8)"
   ]
  },
  {
   "cell_type": "code",
   "execution_count": 38,
   "id": "9261dbaa",
   "metadata": {},
   "outputs": [],
   "source": [
    "cv2.imshow('einstein_2', blurred_2)\n",
    "cv2.waitKey(0)\n",
    "cv2.destroyAllWindows()"
   ]
  },
  {
   "cell_type": "code",
   "execution_count": 39,
   "id": "f533e36e",
   "metadata": {},
   "outputs": [],
   "source": [
    "edges = cv2.subtract(blurred_1,blurred_2)\n",
    "edges = cv2.bitwise_not(edges)"
   ]
  },
  {
   "cell_type": "code",
   "execution_count": 40,
   "id": "a36ceba1",
   "metadata": {},
   "outputs": [],
   "source": [
    "cv2.imshow('edged_image',edges)\n",
    "cv2.waitKey(0)\n",
    "cv2.destroyAllWindows()"
   ]
  },
  {
   "cell_type": "code",
   "execution_count": null,
   "id": "2d5a7b8c",
   "metadata": {},
   "outputs": [],
   "source": []
  }
 ],
 "metadata": {
  "kernelspec": {
   "display_name": "Python 3",
   "language": "python",
   "name": "python3"
  },
  "language_info": {
   "codemirror_mode": {
    "name": "ipython",
    "version": 3
   },
   "file_extension": ".py",
   "mimetype": "text/x-python",
   "name": "python",
   "nbconvert_exporter": "python",
   "pygments_lexer": "ipython3",
   "version": "3.8.8"
  }
 },
 "nbformat": 4,
 "nbformat_minor": 5
}
