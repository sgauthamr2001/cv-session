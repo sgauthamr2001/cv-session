{
 "cells": [
  {
   "cell_type": "markdown",
   "id": "a47048ef",
   "metadata": {},
   "source": [
    "Here, \"Original Image\" is the screenshot taken from the video at an instant. \"Roi\" is the image of only a single orange and white barrell."
   ]
  },
  {
   "cell_type": "code",
   "execution_count": 25,
   "id": "8275b7da",
   "metadata": {},
   "outputs": [],
   "source": [
    "import numpy as np\n",
    "import cv2\n",
    "import matplotlib.pyplot as plt\n",
    "%matplotlib inline"
   ]
  },
  {
   "cell_type": "code",
   "execution_count": 26,
   "id": "d6d22030",
   "metadata": {},
   "outputs": [],
   "source": [
    "original = cv2.imread('capture.png')\n",
    "ram = cv2.imread('capture_2.png')"
   ]
  },
  {
   "cell_type": "code",
   "execution_count": 27,
   "id": "932eab97",
   "metadata": {},
   "outputs": [],
   "source": [
    "cv2.imshow(\"Original Image\", original)\n",
    "cv2.imshow(\"Roi\", ram)\n",
    "cv2.waitKey(0)\n",
    "cv2.destroyAllWindows()"
   ]
  },
  {
   "cell_type": "code",
   "execution_count": 28,
   "id": "98f33085",
   "metadata": {},
   "outputs": [],
   "source": [
    "original_1 = cv2.cvtColor(original,cv2.COLOR_BGR2HSV)\n",
    "ram_1 = cv2.cvtColor(ram,cv2.COLOR_BGR2HSV)"
   ]
  },
  {
   "cell_type": "code",
   "execution_count": 29,
   "id": "e43d818e",
   "metadata": {},
   "outputs": [],
   "source": [
    "roi_hist  = cv2.calcHist([ram_1],[0,1],None,[180,256],[0,180,0,256])"
   ]
  },
  {
   "cell_type": "code",
   "execution_count": 30,
   "id": "ecd87c94",
   "metadata": {},
   "outputs": [],
   "source": [
    "mask_1 = cv2.calcBackProject([ori1],[0,1],roi_hist,[0,180,0,255],1)\n",
    "cv2.imshow(\"mask\",mask_1)\n",
    "cv2.waitKey(0)\n",
    "cv2.destroyAllWindows()"
   ]
  },
  {
   "cell_type": "code",
   "execution_count": 31,
   "id": "2aaf4885",
   "metadata": {},
   "outputs": [],
   "source": [
    "kern = cv2.getStructuringElement(cv2.MORPH_ELLIPSE, (5,5))"
   ]
  },
  {
   "cell_type": "code",
   "execution_count": 32,
   "id": "9db71787",
   "metadata": {},
   "outputs": [],
   "source": [
    "mask_1 = cv2.filter2D(mask_1,-1,kern)\n",
    "cv2.imshow(\"mask\",mask_1)\n",
    "cv2.waitKey(0)\n",
    "cv2.destroyAllWindows()"
   ]
  },
  {
   "cell_type": "code",
   "execution_count": 33,
   "id": "666c0f72",
   "metadata": {},
   "outputs": [],
   "source": [
    "ret,mask_1 = cv2.threshold(mask_1,20,255,cv2.THRESH_BINARY)\n",
    "cv2.imshow(\"mask\",mask_1)\n",
    "cv2.waitKey(0)\n",
    "cv2.destroyAllWindows()"
   ]
  },
  {
   "cell_type": "code",
   "execution_count": 34,
   "id": "b252e98d",
   "metadata": {},
   "outputs": [],
   "source": [
    "mask_1 = cv2.merge((mask_1,mask_1,mask_1))"
   ]
  },
  {
   "cell_type": "code",
   "execution_count": 35,
   "id": "46e75ee6",
   "metadata": {},
   "outputs": [],
   "source": [
    "retrived = cv2.bitwise_and(original,mask_1)\n",
    "cv2.imshow(\"retrived area\",retrived)\n",
    "cv2.waitKey(0)\n",
    "cv2.destroyAllWindows()"
   ]
  },
  {
   "cell_type": "code",
   "execution_count": null,
   "id": "8fa33cc1",
   "metadata": {},
   "outputs": [],
   "source": []
  }
 ],
 "metadata": {
  "kernelspec": {
   "display_name": "Python 3",
   "language": "python",
   "name": "python3"
  },
  "language_info": {
   "codemirror_mode": {
    "name": "ipython",
    "version": 3
   },
   "file_extension": ".py",
   "mimetype": "text/x-python",
   "name": "python",
   "nbconvert_exporter": "python",
   "pygments_lexer": "ipython3",
   "version": "3.8.8"
  }
 },
 "nbformat": 4,
 "nbformat_minor": 5
}
